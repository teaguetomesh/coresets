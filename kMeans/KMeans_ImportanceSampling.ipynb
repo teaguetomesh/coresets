{
 "cells": [
  {
   "cell_type": "code",
   "execution_count": 5,
   "metadata": {},
   "outputs": [],
   "source": [
    "import numpy as np\n",
    "import matplotlib.pyplot as plt\n",
    "%matplotlib inline"
   ]
  },
  {
   "cell_type": "code",
   "execution_count": 6,
   "metadata": {},
   "outputs": [],
   "source": [
    "center_mean = [0,0]\n",
    "bottomleft_mean = [-10, -10]\n",
    "topright_mean = [10, 10]\n",
    "left_mean = [-10, 0]\n",
    "right_mean = [10, 0]\n",
    "bottom_mean = [0, -10]\n",
    "top_mean = [0, 10]\n",
    "\n",
    "X = np.random.multivariate_normal(center_mean, [[1, 0], [0, 1]], size=100)\n",
    "X = np.concatenate((X, np.random.multivariate_normal(bottomleft_mean, [[1, 0], [0, 1]], size=100)))\n",
    "X = np.concatenate((X, np.random.multivariate_normal(topright_mean, [[1, 0], [0, 1]], size=100)))\n",
    "X = np.concatenate((X, np.random.multivariate_normal(left_mean, [[1, 0], [0, 1]], size=100)))\n",
    "X = np.concatenate((X, np.random.multivariate_normal(right_mean, [[1, 0], [0, 1]], size=100)))\n",
    "X = np.concatenate((X, np.random.multivariate_normal(top_mean, [[1, 0], [0, 1]], size=100)))\n",
    "X = np.concatenate((X, np.random.multivariate_normal(bottom_mean, [[1, 0], [0, 1]], size=100)))\n",
    "\n"
   ]
  },
  {
   "cell_type": "code",
   "execution_count": 7,
   "metadata": {},
   "outputs": [],
   "source": [
    "n = len(X)\n",
    "k = 3\n",
    "B = [X[np.random.choice(n)]]"
   ]
  },
  {
   "cell_type": "code",
   "execution_count": 8,
   "metadata": {},
   "outputs": [],
   "source": [
    "def dist_to_B(x, return_closest_index=False):\n",
    "    min_dist = np.inf\n",
    "    closest_index = -1\n",
    "    for i, b in enumerate(B):\n",
    "        dist = np.linalg.norm(x - b)\n",
    "        if dist < min_dist:\n",
    "            min_dist = dist\n",
    "            closest_index = i\n",
    "    if return_closest_index:\n",
    "        return min_dist, closest_index\n",
    "    return min_dist"
   ]
  },
  {
   "cell_type": "code",
   "execution_count": 9,
   "metadata": {},
   "outputs": [],
   "source": [
    "for _ in range(k-1):\n",
    "    p = np.zeros(n)\n",
    "    for i, x in enumerate(X):\n",
    "        p[i] = dist_to_B(x) ** 2\n",
    "    p = p / sum(p)\n",
    "    B.append(X[np.random.choice(n, p=p)])"
   ]
  },
  {
   "cell_type": "code",
   "execution_count": 10,
   "metadata": {},
   "outputs": [
    {
     "data": {
      "image/png": "[encoded data removed]",
      "text/plain": [
       "<Figure size 432x288 with 1 Axes>"
      ]
     },
     "metadata": {
      "needs_background": "light"
     },
     "output_type": "display_data"
    }
   ],
   "source": [
    "plt.scatter(X[:,0], X[:,1])\n",
    "for b in B:\n",
    "    plt.scatter(b[0], b[1], s=200)"
   ]
  },
  {
   "cell_type": "code",
   "execution_count": 11,
   "metadata": {},
   "outputs": [],
   "source": [
    "alpha = 16 * (np.log2(k) + 2)\n",
    "m = 3  # desired final number of points"
   ]
  },
  {
   "cell_type": "code",
   "execution_count": 12,
   "metadata": {},
   "outputs": [],
   "source": [
    "c_phi = sum([dist_to_B(x) for x in X]) / n"
   ]
  },
  {
   "cell_type": "code",
   "execution_count": 13,
   "metadata": {},
   "outputs": [],
   "source": [
    "B_i_totals = [0, 0, 0]\n",
    "B_i = [np.empty_like(X) for _ in range(k)]\n",
    "for x in X:\n",
    "    _, closest_index = dist_to_B(x, return_closest_index=True)\n",
    "    B_i[closest_index][B_i_totals[closest_index]] = x\n",
    "    B_i_totals[closest_index] += 1"
   ]
  },
  {
   "cell_type": "code",
   "execution_count": 14,
   "metadata": {},
   "outputs": [
    {
     "data": {
      "text/plain": [
       "[225, 276, 199]"
      ]
     },
     "execution_count": 14,
     "metadata": {},
     "output_type": "execute_result"
    }
   ],
   "source": [
    "B_i_totals"
   ]
  },
  {
   "cell_type": "code",
   "execution_count": 15,
   "metadata": {},
   "outputs": [
    {
     "data": {
      "image/png": "[encoded data removed]",
      "text/plain": [
       "<Figure size 432x288 with 1 Axes>"
      ]
     },
     "metadata": {
      "needs_background": "light"
     },
     "output_type": "display_data"
    }
   ],
   "source": [
    "for i in range(k):\n",
    "    plt.scatter(B_i[i][:B_i_totals[i],0], B_i[i][:B_i_totals[i],1])\n",
    "for b in B:\n",
    "    plt.scatter(b[0], b[1], s=200)"
   ]
  },
  {
   "cell_type": "code",
   "execution_count": 28,
   "metadata": {},
   "outputs": [],
   "source": [
    "p = np.zeros(n)\n",
    "for i, x in enumerate(X):\n",
    "    p[i] = alpha * dist_to_B(x) / c_phi\n",
    "    for Bi, B_i_total in zip(B_i, B_i_totals):\n",
    "        for xprime in Bi:\n",
    "            p[i] += 2 * alpha * dist_to_B(xprime) / (B_i_total * c_phi)\n",
    "        p[i] += 4 * n / B_i_total"
   ]
  },
  {
   "cell_type": "code",
   "execution_count": 29,
   "metadata": {},
   "outputs": [],
   "source": [
    "p = p / sum(p)"
   ]
  },
  {
   "cell_type": "code",
   "execution_count": 30,
   "metadata": {},
   "outputs": [
    {
     "data": {
      "text/plain": [
       "array([0.00174441, 0.00180125, 0.00170582, 0.00138388, 0.00168026,\n",
       "       0.00142731, 0.00162097, 0.00160732, 0.00175883, 0.0017016 ,\n",
       "       0.00150958, 0.00176958, 0.00166181, 0.0016718 , 0.0017036 ,\n",
       "       0.00179097, 0.00155214, 0.00181813, 0.00171772, 0.00155419,\n",
       "       0.00179021, 0.00180095, 0.00175653, 0.00151236, 0.00171428,\n",
       "       0.00147136, 0.0017185 , 0.00171262, 0.00172048, 0.00151482,\n",
       "       0.00167798, 0.00161751, 0.00152763, 0.00171558, 0.00162908,\n",
       "       0.00166107, 0.00166475, 0.00156827, 0.00163165, 0.00166141,\n",
       "       0.00149346, 0.00152899, 0.00164391, 0.00165954, 0.00161061,\n",
       "       0.00167975, 0.00180854, 0.00176556, 0.00167797, 0.00178189,\n",
       "       0.0015488 , 0.00162621, 0.00178279, 0.00171279, 0.00178543,\n",
       "       0.00170687, 0.00144126, 0.00179632, 0.0017028 , 0.00174396,\n",
       "       0.0018145 , 0.00172012, 0.00179019, 0.00162382, 0.00167442,\n",
       "       0.00169313, 0.00157086, 0.00162479, 0.0016729 , 0.00175576,\n",
       "       0.0013939 , 0.00168876, 0.00172709, 0.00176027, 0.0017118 ,\n",
       "       0.00182817, 0.00180733, 0.00161337, 0.00159214, 0.0016414 ,\n",
       "       0.00159534, 0.00174581, 0.00146594, 0.00173608, 0.00171351,\n",
       "       0.00166625, 0.00170768, 0.00147864, 0.00167248, 0.00176348,\n",
       "       0.00166814, 0.00162112, 0.00147505, 0.00167177, 0.0016621 ,\n",
       "       0.00161863, 0.00164814, 0.00169154, 0.00149452, 0.00161836,\n",
       "       0.00168016, 0.00196515, 0.00190544, 0.00181418, 0.00188065,\n",
       "       0.00201666, 0.00208549, 0.00186939, 0.00191673, 0.00185181,\n",
       "       0.00188974, 0.00177701, 0.00197881, 0.00196019, 0.00198581,\n",
       "       0.0019071 , 0.00181356, 0.00183723, 0.00210885, 0.00197508,\n",
       "       0.00189615, 0.00212199, 0.00188798, 0.0019337 , 0.0019212 ,\n",
       "       0.00186132, 0.00193231, 0.00172602, 0.00196782, 0.00177831,\n",
       "       0.00170647, 0.00182267, 0.00201267, 0.00204052, 0.00202771,\n",
       "       0.00199384, 0.00189905, 0.00185913, 0.0017476 , 0.00190828,\n",
       "       0.00176464, 0.00194654, 0.00190907, 0.00178986, 0.00187959,\n",
       "       0.00203087, 0.00178516, 0.00178231, 0.00194653, 0.00189755,\n",
       "       0.00203127, 0.00191233, 0.00173104, 0.00197749, 0.00167893,\n",
       "       0.00179828, 0.00204895, 0.00195777, 0.00193135, 0.00185496,\n",
       "       0.00180694, 0.00164668, 0.00169877, 0.00179391, 0.00217112,\n",
       "       0.00197264, 0.00191051, 0.00191771, 0.00204153, 0.0019502 ,\n",
       "       0.00181221, 0.00189045, 0.00190181, 0.00190826, 0.00229344,\n",
       "       0.00173864, 0.00174264, 0.00177931, 0.00174508, 0.00216203,\n",
       "       0.00206851, 0.00195774, 0.00163191, 0.00177222, 0.00185974,\n",
       "       0.00209523, 0.00213136, 0.00181239, 0.00204607, 0.00182496,\n",
       "       0.00188262, 0.00171458, 0.00182604, 0.00190808, 0.00194348,\n",
       "       0.00181616, 0.0019758 , 0.0019328 , 0.00191183, 0.0020291 ,\n",
       "       0.00077046, 0.00073966, 0.00090465, 0.00082144, 0.00066385,\n",
       "       0.00066106, 0.00078193, 0.00077235, 0.00067709, 0.00069459,\n",
       "       0.00064743, 0.00073961, 0.00073962, 0.00074062, 0.00076571,\n",
       "       0.00088881, 0.0006608 , 0.00073152, 0.00071484, 0.00077083,\n",
       "       0.00088514, 0.00079127, 0.00064998, 0.00083636, 0.00064132,\n",
       "       0.00083787, 0.00066254, 0.00072005, 0.00067927, 0.0006371 ,\n",
       "       0.00064066, 0.00085269, 0.00068641, 0.00073514, 0.00076891,\n",
       "       0.00064258, 0.00062766, 0.00064581, 0.00062549, 0.00068672,\n",
       "       0.00076763, 0.00070924, 0.0007285 , 0.0006331 , 0.00070591,\n",
       "       0.0006368 , 0.00085531, 0.00089403, 0.00063934, 0.00064588,\n",
       "       0.00071614, 0.00068205, 0.0005699 , 0.00085065, 0.00072672,\n",
       "       0.00072269, 0.00065869, 0.00076654, 0.0006468 , 0.00079438,\n",
       "       0.00076012, 0.00071267, 0.00067732, 0.00059549, 0.00064186,\n",
       "       0.00067151, 0.0006674 , 0.00080191, 0.000924  , 0.00070934,\n",
       "       0.00073412, 0.00064603, 0.00085857, 0.00082406, 0.00084385,\n",
       "       0.00078039, 0.0007055 , 0.00072225, 0.00070808, 0.0005871 ,\n",
       "       0.00096384, 0.0006436 , 0.000618  , 0.00072854, 0.00065428,\n",
       "       0.00079391, 0.00076525, 0.00072748, 0.00060732, 0.00069846,\n",
       "       0.00076655, 0.00082599, 0.00071998, 0.00086286, 0.00080456,\n",
       "       0.00072184, 0.00058466, 0.00073985, 0.00070489, 0.00060933,\n",
       "       0.00245228, 0.0023041 , 0.00229444, 0.00234256, 0.0024626 ,\n",
       "       0.00239578, 0.00223217, 0.0025358 , 0.0023886 , 0.00243868,\n",
       "       0.0025796 , 0.00226611, 0.00229677, 0.00214349, 0.00219279,\n",
       "       0.00242736, 0.00233243, 0.00225603, 0.00226829, 0.00227485,\n",
       "       0.00229562, 0.00229207, 0.00228671, 0.00202863, 0.00236333,\n",
       "       0.00236117, 0.00203578, 0.00223427, 0.00242717, 0.0023995 ,\n",
       "       0.00239583, 0.0021391 , 0.00222985, 0.00235517, 0.00222913,\n",
       "       0.00232241, 0.00204849, 0.00235126, 0.00229678, 0.00231919,\n",
       "       0.00230062, 0.00217841, 0.00222231, 0.00246007, 0.00235391,\n",
       "       0.00240667, 0.00214433, 0.00219182, 0.00231242, 0.00233833,\n",
       "       0.00238224, 0.00231152, 0.00225625, 0.00219263, 0.00238377,\n",
       "       0.00217812, 0.0022687 , 0.00235736, 0.00219424, 0.00231273,\n",
       "       0.00218036, 0.00219728, 0.00225995, 0.00247695, 0.00244214,\n",
       "       0.00246053, 0.0022659 , 0.00234861, 0.0023363 , 0.00228678,\n",
       "       0.00193184, 0.00243665, 0.0024412 , 0.002211  , 0.00236796,\n",
       "       0.0023665 , 0.00252884, 0.00217462, 0.00223275, 0.00228613,\n",
       "       0.00227851, 0.00213628, 0.00218571, 0.00231405, 0.00207826,\n",
       "       0.00230425, 0.00228792, 0.00234817, 0.00232512, 0.00232238,\n",
       "       0.00244048, 0.00237982, 0.00236356, 0.00213884, 0.002149  ,\n",
       "       0.00235656, 0.0023244 , 0.00213067, 0.00236429, 0.00254504,\n",
       "       0.00170155, 0.00176436, 0.00206674, 0.00183525, 0.00205832,\n",
       "       0.00188874, 0.00182966, 0.00199589, 0.00198258, 0.00194034,\n",
       "       0.00167873, 0.00176766, 0.00190583, 0.00153451, 0.00189344,\n",
       "       0.00164357, 0.0018784 , 0.00222514, 0.001847  , 0.0018733 ,\n",
       "       0.00176778, 0.00143998, 0.00189904, 0.00168142, 0.00163533,\n",
       "       0.00183931, 0.0018857 , 0.001862  , 0.00196371, 0.00200082,\n",
       "       0.00176178, 0.00194584, 0.00195544, 0.00173921, 0.00183919,\n",
       "       0.00172829, 0.00173646, 0.00185851, 0.00204963, 0.0019105 ,\n",
       "       0.00198401, 0.0017562 , 0.00199455, 0.00172207, 0.00191985,\n",
       "       0.00176558, 0.00186149, 0.0018502 , 0.00181997, 0.00188415,\n",
       "       0.00205022, 0.00180813, 0.00178657, 0.00181246, 0.00192481,\n",
       "       0.00196134, 0.00188084, 0.00178617, 0.00185604, 0.00176157,\n",
       "       0.00193406, 0.00156029, 0.00175589, 0.00197818, 0.00171588,\n",
       "       0.00197202, 0.00206413, 0.00206448, 0.00196802, 0.00209926,\n",
       "       0.00161338, 0.00202083, 0.00207265, 0.00186454, 0.00177938,\n",
       "       0.00190457, 0.00182007, 0.0020223 , 0.00174013, 0.00186842,\n",
       "       0.00184153, 0.00172228, 0.00175883, 0.00182339, 0.00169837,\n",
       "       0.00190356, 0.00179982, 0.00185835, 0.00179153, 0.00185823,\n",
       "       0.00164398, 0.00180549, 0.0017563 , 0.00197094, 0.0017851 ,\n",
       "       0.00199256, 0.00186019, 0.00180715, 0.00184271, 0.0017143 ,\n",
       "       0.00076152, 0.00090068, 0.00077989, 0.00064277, 0.00063568,\n",
       "       0.00084048, 0.00088055, 0.00076352, 0.00081201, 0.00085768,\n",
       "       0.00072549, 0.00079964, 0.0007622 , 0.00072207, 0.00078565,\n",
       "       0.00064998, 0.0008669 , 0.00079705, 0.0007259 , 0.00076393,\n",
       "       0.00085928, 0.00078672, 0.00062821, 0.00073781, 0.00091292,\n",
       "       0.00077577, 0.00085146, 0.00073307, 0.00071268, 0.00079599,\n",
       "       0.00076647, 0.00077319, 0.00070195, 0.00088743, 0.0007505 ,\n",
       "       0.00089948, 0.00099142, 0.00082507, 0.00087265, 0.0007733 ,\n",
       "       0.00075737, 0.00079219, 0.00075271, 0.00092694, 0.00092545,\n",
       "       0.00088132, 0.0007198 , 0.00087303, 0.00081936, 0.00061212,\n",
       "       0.00071542, 0.00082912, 0.00090544, 0.00075324, 0.00070914,\n",
       "       0.00089353, 0.00084453, 0.00089777, 0.00073925, 0.0005699 ,\n",
       "       0.0007027 , 0.00062144, 0.00068531, 0.00080672, 0.00079862,\n",
       "       0.00070105, 0.00094671, 0.00085014, 0.00076626, 0.00086722,\n",
       "       0.00079402, 0.00067818, 0.00068898, 0.00077454, 0.00070826,\n",
       "       0.00074144, 0.00084094, 0.00066858, 0.00092652, 0.00083951,\n",
       "       0.00093801, 0.00081998, 0.0008024 , 0.00081476, 0.0006181 ,\n",
       "       0.00076888, 0.00063403, 0.00081731, 0.00080553, 0.00073913,\n",
       "       0.00070442, 0.00069039, 0.00083786, 0.0007834 , 0.000718  ,\n",
       "       0.00074778, 0.00072333, 0.00073792, 0.00078337, 0.00071662,\n",
       "       0.0007185 , 0.00077042, 0.00079116, 0.00066657, 0.00083624,\n",
       "       0.00072471, 0.00078946, 0.00084399, 0.00061256, 0.0008432 ,\n",
       "       0.00096853, 0.00073241, 0.0008035 , 0.00076163, 0.00079503,\n",
       "       0.00066321, 0.00076786, 0.0007997 , 0.0008851 , 0.00084892,\n",
       "       0.00081578, 0.00083845, 0.00082583, 0.00096828, 0.00072801,\n",
       "       0.00086641, 0.00085517, 0.00065159, 0.00089881, 0.00075558,\n",
       "       0.00082813, 0.00101876, 0.00065144, 0.00064868, 0.00077687,\n",
       "       0.00090546, 0.00063347, 0.00080748, 0.00069702, 0.00063046,\n",
       "       0.000798  , 0.00101726, 0.00083896, 0.00079125, 0.0010202 ,\n",
       "       0.00079739, 0.00075454, 0.00069776, 0.00100514, 0.00099487,\n",
       "       0.0007782 , 0.00076043, 0.00077372, 0.00080342, 0.00064732,\n",
       "       0.00083452, 0.00077264, 0.00068175, 0.00079753, 0.00078801,\n",
       "       0.00064725, 0.00083495, 0.00074114, 0.00086132, 0.00073552,\n",
       "       0.00068031, 0.00073534, 0.00074908, 0.0008809 , 0.00064728,\n",
       "       0.0005699 , 0.00082118, 0.00081415, 0.00075566, 0.00076881,\n",
       "       0.00076234, 0.0009041 , 0.00099941, 0.00077616, 0.00067385,\n",
       "       0.00075004, 0.00076221, 0.0008766 , 0.00062167, 0.00075154,\n",
       "       0.00074758, 0.00072097, 0.00078109, 0.0006662 , 0.00069067,\n",
       "       0.00068515, 0.00073932, 0.00079891, 0.00098923, 0.00076301,\n",
       "       0.00097495, 0.0005841 , 0.00062244, 0.00060513, 0.00088922])"
      ]
     },
     "execution_count": 30,
     "metadata": {},
     "output_type": "execute_result"
    }
   ],
   "source": [
    "p"
   ]
  },
  {
   "cell_type": "code",
   "execution_count": null,
   "metadata": {},
   "outputs": [],
   "source": [
    "np.random.choice(n, size=m, p=p)"
   ]
  }
 ],
 "metadata": {
  "kernelspec": {
   "display_name": "Python 3",
   "language": "python",
   "name": "python3"
  },
  "language_info": {
   "codemirror_mode": {
    "name": "ipython",
    "version": 3
   },
   "file_extension": ".py",
   "mimetype": "text/x-python",
   "name": "python",
   "nbconvert_exporter": "python",
   "pygments_lexer": "ipython3",
   "version": "3.7.1"
  }
 },
 "nbformat": 4,
 "nbformat_minor": 2
}
