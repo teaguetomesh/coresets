{
 "cells": [
  {
   "cell_type": "code",
   "execution_count": 5,
   "metadata": {},
   "outputs": [],
   "source": [
    "import kmeans_qaoa as kq\n",
    "from qiskit import IBMQ\n",
    "import numpy as np\n",
    "import coreset"
   ]
  },
  {
   "cell_type": "code",
   "execution_count": 27,
   "metadata": {},
   "outputs": [],
   "source": [
    "IBMQ.delete_account()"
   ]
  },
  {
   "cell_type": "code",
   "execution_count": 28,
   "metadata": {},
   "outputs": [],
   "source": [
    "IBMQ.save_account('c525171861faf3f1a9fc7ce098a5eded9bb68c9864aee62528b157d2ec4123f3d0083516735395460c8d6c80b4c48ab0db549f55bca91dc05d626e2eff21b0c2')"
   ]
  },
  {
   "cell_type": "code",
   "execution_count": 29,
   "metadata": {},
   "outputs": [
    {
     "name": "stdout",
     "output_type": "stream",
     "text": [
      "{'token': 'c525171861faf3f1a9fc7ce098a5eded9bb68c9864aee62528b157d2ec4123f3d0083516735395460c8d6c80b4c48ab0db549f55bca91dc05d626e2eff21b0c2', 'url': 'https://auth.quantum-computing.ibm.com/api'}\n",
      "None\n"
     ]
    }
   ],
   "source": [
    "print(IBMQ.stored_account())\n",
    "print(IBMQ.active_account())"
   ]
  },
  {
   "cell_type": "code",
   "execution_count": 30,
   "metadata": {},
   "outputs": [
    {
     "name": "stdout",
     "output_type": "stream",
     "text": [
      "Found 1 credentials.\n",
      "No credentials available for updating could be found. No action will be performed.\n",
      "Warnings:\n",
      "The stored account with url \"https://auth.quantum-computing.ibm.com/api\" is already an IBM Q Experience v2 account.\n"
     ]
    }
   ],
   "source": [
    "IBMQ.update_account()"
   ]
  },
  {
   "cell_type": "code",
   "execution_count": 31,
   "metadata": {},
   "outputs": [],
   "source": [
    "provider = IBMQ.load_account()"
   ]
  },
  {
   "cell_type": "code",
   "execution_count": 6,
   "metadata": {},
   "outputs": [
    {
     "name": "stdout",
     "output_type": "stream",
     "text": [
      "[ 24.20128166  14.69255179  -0.45390471  -2.50806823 -10.60854682\n",
      " -12.77520754   1.85345051  29.7062432 ] 7290.557889102448\n",
      "[-40.19715584  -5.19405635   1.18948133   2.32577153  -8.87694146\n",
      "  -1.34954267  -1.06196487 -50.25839323] 5092.263382334067\n",
      "[-22.97840584 -10.36643817   0.11000542   0.88273192  -8.72894815\n",
      "  -4.90645825  -1.04824229 -42.5917051 ] 7089.681083956408\n",
      "[ 15.28721916  -1.58046735  -0.57841962  -1.7482864  -11.93045317\n",
      " -17.50827711  13.78608193 485.4010695 ] 216.80510977645045\n",
      "[ -3.14246834   1.52523931  -0.35035421  -1.81937942 -11.4889816\n",
      " -16.47183535   8.83169576 283.2622327 ] 1173.2454254525042\n"
     ]
    }
   ],
   "source": [
    "coreset_vectors = np.load('pulsar_coreset_vectors.npy')\n",
    "coreset_weights = np.load('pulsar_coreset_weights.npy')\n",
    "for v, w in zip(coreset_vectors, coreset_weights):\n",
    "    print(v,w)"
   ]
  },
  {
   "cell_type": "code",
   "execution_count": null,
   "metadata": {},
   "outputs": [],
   "source": [
    "pulsar_coreset = [(1, np.array([-2,0])), (1, np.array([-1,0])), (1, np.array([1,0])), (1, np.array([2,0]))]\n",
    "#coreset = None\n",
    "coreset_points, G, H = kq.gen_coreset_graph(coreset=coreset, metric='dot')\n",
    "#coreset_points2, G_dist, H2 = kq.gen_coreset_graph(coreset=coreset, metric='dist')\n",
    "kq.plot_coreset_graph(coreset_points, G)\n",
    "hstr = ''\n",
    "for term in H:\n",
    "    hstr += '{:.1f}{} + '.format(term[0], ''.join(term[1]))\n",
    "hstr = hstr[:-2]\n",
    "print('The corresponding problem Hamiltonian is:\\nH = {}'.format(hstr))"
   ]
  },
  {
   "cell_type": "code",
   "execution_count": null,
   "metadata": {},
   "outputs": [],
   "source": []
  },
  {
   "cell_type": "code",
   "execution_count": null,
   "metadata": {},
   "outputs": [],
   "source": []
  },
  {
   "cell_type": "code",
   "execution_count": null,
   "metadata": {},
   "outputs": [],
   "source": []
  },
  {
   "cell_type": "code",
   "execution_count": null,
   "metadata": {},
   "outputs": [],
   "source": []
  },
  {
   "cell_type": "code",
   "execution_count": null,
   "metadata": {},
   "outputs": [],
   "source": [
    "data_vectors = np.load('Datasets/pulsar_data_vectors.npy')\n",
    "print(coreset.get_cost(data_vectors, YOUR_PROPOSED_CLUSTERS))"
   ]
  }
 ],
 "metadata": {
  "kernelspec": {
   "display_name": "Python 3",
   "language": "python",
   "name": "python3"
  },
  "language_info": {
   "codemirror_mode": {
    "name": "ipython",
    "version": 3
   },
   "file_extension": ".py",
   "mimetype": "text/x-python",
   "name": "python",
   "nbconvert_exporter": "python",
   "pygments_lexer": "ipython3",
   "version": "3.7.5"
  }
 },
 "nbformat": 4,
 "nbformat_minor": 4
}
