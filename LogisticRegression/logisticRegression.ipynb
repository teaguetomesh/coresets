{
 "cells": [
  {
   "cell_type": "code",
   "execution_count": 46,
   "metadata": {},
   "outputs": [],
   "source": [
    "import numpy as np \n",
    "import matplotlib.pyplot as plt\n",
    "from sklearn.model_selection import train_test_split\n",
    "from sklearn.linear_model import LogisticRegression\n",
    "import matplotlib.pyplot as plt\n",
    "import seaborn as sns\n",
    "from sklearn import metrics\n",
    "from scipy.optimize import minimize\n",
    "from common.model_lr import *\n",
    "from common.inference import nuts, rhat, hmc\n",
    "import bayesiancoresets as bc\n",
    "import pandas as pd"
   ]
  },
  {
   "cell_type": "markdown",
   "metadata": {},
   "source": [
    "# The example given in Campbell & Broderick"
   ]
  },
  {
   "cell_type": "code",
   "execution_count": 68,
   "metadata": {},
   "outputs": [],
   "source": [
    "# parameters\n",
    "dataname = 'phishing'\n",
    "algname = 'GIGA' # can be GIGA / FW / RND\n",
    "ID = 1"
   ]
  },
  {
   "cell_type": "code",
   "execution_count": 69,
   "metadata": {},
   "outputs": [
    {
     "name": "stdout",
     "output_type": "stream",
     "text": [
      "[50]\n"
     ]
    }
   ],
   "source": [
    "# initialization\n",
    "algdict = {'GIGA':bc.snnls.GIGA, 'FW':bc.snnls.FrankWolfe, 'RND':bc.snnls.UniformSampling}\n",
    "\n",
    "np.random.seed(int(ID))\n",
    "\n",
    "mcmc_steps = 5000 #total number of MH steps\n",
    "mcmc_burn = 1000\n",
    "projection_dim = 500 #random projection dimension\n",
    "Ms = np.unique(np.logspace(0, 3, 10, dtype=int))\n",
    "Ms = np.array([50])\n",
    "print(Ms)\n",
    "\n",
    "pbar = True #progress bar display flag\n",
    "step_size_init = 0.001\n",
    "n_leap = 15\n",
    "target_a = 0.8\n",
    "mcmc_alg = hmc #nuts"
   ]
  },
  {
   "cell_type": "code",
   "execution_count": 77,
   "metadata": {},
   "outputs": [
    {
     "name": "stdout",
     "output_type": "stream",
     "text": [
      "[[-0.13552214 -0.21418322  0.13368857 ... -0.41769558 -0.12906334\n",
      "   1.        ]\n",
      " [ 0.2366381  -0.028549   -0.05507373 ... -0.02676805 -0.4717898\n",
      "   1.        ]\n",
      " [ 0.1945081  -0.0089337   0.01347461 ... -0.04076594 -0.52867629\n",
      "   1.        ]\n",
      " ...\n",
      " [-0.02339004 -0.07812694  0.09948859 ...  0.03499793 -0.22752027\n",
      "   1.        ]\n",
      " [-0.18276716  0.13937916  0.03936396 ...  0.02933968 -0.46084692\n",
      "   1.        ]\n",
      " [ 0.05323274 -0.18775962 -0.12507893 ...  0.01763863 -0.3791133\n",
      "   1.        ]]\n",
      "(500, 11) (50, 11)\n",
      "[ 1.  1.  1. -1.  1. -1. -1.  1.  1.  1. -1.  1.  1.  1.  1.  1.  1. -1.\n",
      "  1. -1.  1. -1.  1. -1. -1.  1.  1.  1.  1.  1. -1.  1.  1.  1. -1.  1.\n",
      " -1.  1.  1. -1.  1. -1.  1. -1.  1. -1. -1.  1.  1.  1.  1.  1. -1.  1.\n",
      "  1.  1. -1.  1. -1. -1.  1. -1.  1.  1. -1.  1. -1. -1.  1. -1.  1. -1.\n",
      "  1. -1.  1.  1.  1.  1. -1. -1. -1. -1. -1. -1.  1.  1. -1. -1. -1.  1.\n",
      "  1.  1. -1.  1. -1. -1.  1.  1. -1.  1. -1.  1. -1.  1.  1. -1.  1.  1.\n",
      " -1.  1.  1. -1.  1.  1.  1. -1.  1. -1.  1.  1. -1. -1. -1.  1.  1.  1.\n",
      "  1.  1.  1. -1.  1. -1.  1.  1.  1.  1.  1.  1. -1. -1. -1.  1.  1. -1.\n",
      "  1. -1.  1. -1.  1. -1.  1. -1. -1. -1.  1. -1.  1. -1.  1. -1. -1. -1.\n",
      " -1.  1.  1.  1.  1.  1.  1.  1. -1.  1. -1. -1.  1.  1.  1. -1.  1. -1.\n",
      " -1. -1. -1. -1.  1.  1.  1.  1. -1. -1.  1.  1.  1. -1. -1.  1. -1. -1.\n",
      " -1.  1.  1. -1.  1. -1. -1. -1.  1. -1. -1.  1. -1. -1. -1. -1. -1. -1.\n",
      "  1.  1. -1. -1.  1.  1. -1. -1.  1.  1. -1.  1.  1.  1. -1.  1. -1.  1.\n",
      " -1.  1. -1.  1. -1.  1.  1.  1.  1. -1.  1.  1. -1.  1.  1. -1. -1. -1.\n",
      "  1.  1.  1. -1.  1. -1. -1.  1.  1.  1.  1.  1. -1.  1.  1. -1.  1. -1.\n",
      "  1. -1. -1.  1. -1.  1.  1. -1. -1.  1.  1. -1.  1. -1.  1.  1.  1.  1.\n",
      "  1. -1.  1. -1.  1.  1.  1.  1.  1.  1. -1. -1. -1.  1. -1.  1. -1.  1.\n",
      "  1.  1. -1. -1.  1.  1. -1.  1. -1.  1.  1. -1.  1.  1. -1.  1. -1. -1.\n",
      "  1.  1.  1. -1. -1.  1.  1.  1. -1.  1.  1.  1.  1. -1.  1.  1.  1. -1.\n",
      "  1.  1.  1. -1. -1.  1.  1.  1. -1. -1. -1.  1. -1. -1.  1. -1.  1.  1.\n",
      "  1. -1. -1.  1. -1.  1.  1.  1.  1. -1.  1. -1.  1. -1.  1. -1. -1. -1.\n",
      "  1.  1. -1.  1. -1.  1. -1.  1.  1. -1.  1.  1. -1. -1. -1. -1. -1. -1.\n",
      "  1.  1. -1.  1. -1.  1. -1.  1. -1.  1. -1. -1.  1.  1.  1. -1.  1.  1.\n",
      " -1. -1. -1. -1.  1.  1. -1. -1. -1. -1.  1. -1. -1.  1.  1.  1. -1. -1.\n",
      "  1. -1. -1.  1.  1.  1.  1.  1. -1. -1.  1. -1. -1.  1. -1.  1.  1. -1.\n",
      " -1.  1. -1. -1. -1. -1.  1. -1. -1. -1. -1.  1. -1.  1.  1.  1.  1. -1.\n",
      " -1. -1.  1. -1.  1. -1.  1.  1.  1. -1. -1.  1.  1.  1. -1. -1.  1. -1.\n",
      "  1. -1. -1. -1. -1. -1.  1. -1. -1. -1.  1.  1. -1. -1.]\n",
      "[ 1.  1. -1.  1.  1.  1.  1. -1.  1. -1.  1.  1. -1. -1. -1.  1. -1.  1.\n",
      "  1. -1. -1. -1.  1. -1.  1.  1. -1.  1. -1.  1.  1. -1.  1. -1.  1.  1.\n",
      " -1. -1.  1.  1.  1.  1.  1.  1. -1. -1.  1.  1.  1. -1.]\n",
      "(500,) (50,)\n"
     ]
    }
   ],
   "source": [
    "# Load data\n",
    "datafile = 'data/' + dataname + '.npz'\n",
    "data = np.load(datafile)\n",
    "X = data['X']\n",
    "Xt = data['Xt']\n",
    "print(X)\n",
    "#print(Xt)\n",
    "print(X.shape, Xt.shape)\n",
    "print(data['y'])\n",
    "print(data['yt'])\n",
    "print(data['y'].shape, data['yt'].shape)"
   ]
  },
  {
   "cell_type": "code",
   "execution_count": 74,
   "metadata": {},
   "outputs": [
    {
     "name": "stdout",
     "output_type": "stream",
     "text": [
      "[[-1.47800908 -1.13181029  0.65818148 ... -2.15479175  1.17964757\n",
      "   1.        ]\n",
      " [ 1.88004196  0.44981986 -0.71480223 ... -0.15383692 -0.63730917\n",
      "   1.        ]\n",
      " [ 1.49989739  0.62661681 -0.11714302 ... -0.32545665 -0.86874739\n",
      "   1.        ]\n",
      " ...\n",
      " [-0.46622631  0.04648211  0.48451305 ...  0.39719631  0.43026365\n",
      "   1.        ]\n",
      " [ 1.90430707 -1.97036593  0.05906681 ... -0.13690065  0.6023032\n",
      "  -1.        ]\n",
      " [-0.22515114  0.9227998   1.53336055 ... -0.14772742  0.15247848\n",
      "  -1.        ]]\n",
      "(500, 11) (50, 11)\n"
     ]
    }
   ],
   "source": [
    "# standardize the covariates; last col is intercept, so no stdization there\n",
    "m = X[:, :-1].mean(axis=0)\n",
    "V = np.cov(X[:, :-1], rowvar=False)+1e-12*np.eye(X.shape[1]-1)\n",
    "X[:, :-1] = np.linalg.solve(np.linalg.cholesky(V), (X[:, :-1] - m).T).T\n",
    "Xt[:, :-1] = np.linalg.solve(np.linalg.cholesky(V), (Xt[:, :-1] - m).T).T\n",
    "Z = data['y'][:, np.newaxis]*X\n",
    "Zt = data['yt'][:, np.newaxis]*Xt\n",
    "D = Z.shape[1]\n",
    "print(Z)\n",
    "#print(Zt)\n",
    "print(Z.shape, Zt.shape)"
   ]
  },
  {
   "cell_type": "code",
   "execution_count": 44,
   "metadata": {},
   "outputs": [
    {
     "name": "stdout",
     "output_type": "stream",
     "text": [
      "[[ 0.96234722  0.88680166  1.        ]\n",
      " [ 1.20578801  0.89919662 -1.        ]\n",
      " [ 0.48343226  0.39607497 -1.        ]\n",
      " ...\n",
      " [ 2.21985569 -0.95121555  1.        ]\n",
      " [ 0.60657125  0.4736645   1.        ]\n",
      " [ 0.03313489  0.85894188  1.        ]]\n",
      "(500, 3) (50, 3)\n"
     ]
    }
   ],
   "source": [
    "print(Z)\n",
    "#print(Zt)\n",
    "print(Z.shape, Zt.shape)\n",
    "#print(X)"
   ]
  },
  {
   "cell_type": "code",
   "execution_count": 43,
   "metadata": {},
   "outputs": [
    {
     "data": {
      "text/plain": [
       "<matplotlib.collections.PathCollection at 0x137af4e90>"
      ]
     },
     "execution_count": 43,
     "metadata": {},
     "output_type": "execute_result"
    },
    {
     "data": {
      "image/png": "[encoded data removed]",
      "text/plain": [
       "<Figure size 432x288 with 1 Axes>"
      ]
     },
     "metadata": {
      "needs_background": "light"
     },
     "output_type": "display_data"
    }
   ],
   "source": [
    "colors = ['red' if l == 1 else 'blue' for l in Z[:,2]]\n",
    "plt.scatter(Z[:,0], Z[:,1], color=colors)"
   ]
  },
  {
   "cell_type": "code",
   "execution_count": 7,
   "metadata": {},
   "outputs": [
    {
     "name": "stdout",
     "output_type": "stream",
     "text": [
      "Computing Laplace approximation for synth_lr\n",
      "mu:\n",
      " [ 3.03314095  3.08039501 -0.60320514]\n",
      "cov:\n",
      " [[ 0.07988719  0.0591189  -0.01292515]\n",
      " [ 0.0591189   0.0806745  -0.01306789]\n",
      " [-0.01292515 -0.01306789  0.0246806 ]]\n"
     ]
    }
   ],
   "source": [
    "print('Computing Laplace approximation for '+dataname)\n",
    "res = minimize(lambda mu : -log_joint(Z, mu, np.ones(Z.shape[0])), Z.mean(axis=0)[:D], jac=lambda mu : -grad_log_joint(Z, mu, np.ones(Z.shape[0])))\n",
    "mu = res.x\n",
    "cov = -np.linalg.inv(hess_log_joint(Z, mu))\n",
    "print('mu:\\n', mu)\n",
    "print('cov:\\n', cov)"
   ]
  },
  {
   "cell_type": "code",
   "execution_count": 8,
   "metadata": {},
   "outputs": [],
   "source": [
    "#generate a sampler based on the laplace approx \n",
    "sampler = lambda sz, w, ids : np.atleast_2d(np.random.multivariate_normal(mu, cov, sz))"
   ]
  },
  {
   "cell_type": "code",
   "execution_count": 9,
   "metadata": {},
   "outputs": [],
   "source": [
    "#create the log-likelihood eval function\n",
    "def loglike(prms):\n",
    "    return np.hstack([log_likelihood(Z, prms[i,:])[:,np.newaxis] for i in range(prms.shape[0])])"
   ]
  },
  {
   "cell_type": "code",
   "execution_count": 10,
   "metadata": {},
   "outputs": [],
   "source": [
    "tsf = bc.BayesianTangentSpaceFactory(loglike, sampler, projection_dim)"
   ]
  },
  {
   "cell_type": "code",
   "execution_count": 11,
   "metadata": {},
   "outputs": [
    {
     "name": "stdout",
     "output_type": "stream",
     "text": [
      "Running MCMC on the full dataset synth_lr\n",
      "Progress: [##############################] 6000 of 6000 steps\n",
      "Step size\n",
      "0.17572861099502432\n",
      "Accept rate\n",
      "0.922\n"
     ]
    }
   ],
   "source": [
    "print('Running MCMC on the full dataset '+ dataname)\n",
    "logpZ = lambda th : log_joint(Z, th, np.ones(Z.shape[0]))\n",
    "glogpZ = lambda th : grad_log_joint(Z, th, np.ones(Z.shape[0]))\n",
    "mcmc_param_init = np.random.multivariate_normal(mu, cov)\n",
    "full_samples = mcmc_alg(logp = logpZ, gradlogp = glogpZ, x0 = mcmc_param_init, sample_steps=mcmc_steps, \n",
    "                        burn_steps=mcmc_burn, adapt_steps=mcmc_burn, n_leapfrogs = n_leap, \n",
    "                        scale=np.ones(mu.shape[0]), progress_bar=pbar, step_size=step_size_init, target_accept=target_a) "
   ]
  },
  {
   "cell_type": "code",
   "execution_count": 12,
   "metadata": {},
   "outputs": [
    {
     "name": "stdout",
     "output_type": "stream",
     "text": [
      "[[ 3.12631649  3.02885538 -0.76491991]\n",
      " [ 2.90437653  2.95423639 -0.71410029]\n",
      " [ 3.05249668  2.90891897 -0.68827172]\n",
      " ...\n",
      " [ 3.30215662  3.55432665 -0.59411475]\n",
      " [ 3.2120773   3.27657051 -0.5660678 ]\n",
      " [ 3.10926804  3.29486176 -0.5851078 ]]\n"
     ]
    }
   ],
   "source": [
    "print(full_samples)"
   ]
  },
  {
   "cell_type": "code",
   "execution_count": 13,
   "metadata": {},
   "outputs": [],
   "source": [
    "csizes = np.zeros(Ms.shape[0])\n",
    "Fs = np.zeros(Ms.shape[0])"
   ]
  },
  {
   "cell_type": "code",
   "execution_count": 14,
   "metadata": {},
   "outputs": [
    {
     "name": "stdout",
     "output_type": "stream",
     "text": [
      "Running coreset construction / MCMC for synth_lr GIGA 1\n",
      "M = 50: coreset construction, GIGA synth_lr 1\n",
      "M = 50: MCMC\n",
      "Progress: [##############################] 6000 of 6000 steps\n",
      "Step size\n",
      "0.20372836510974296\n",
      "Accept rate\n",
      "0.8538\n",
      "M = 50: coreset sizes = 22\n",
      "M = 50: F norms\n",
      "Fs(50) = 24.736687253791093\n",
      "============================================================\n"
     ]
    }
   ],
   "source": [
    "print('Running coreset construction / MCMC for ' + dataname + ' ' + algname + ' ' + str(ID))\n",
    "alg = bc.HilbertCoreset(tsf, snnls = algdict[algname])\n",
    "for m in range(Ms.shape[0]):\n",
    "    print('M = ' + str(Ms[m]) + ': coreset construction, '+ algname + ' ' + dataname + ' ' + str(ID))\n",
    "    #this runs alg up to a level of M; on the next iteration, it will continue from where it left off\n",
    "    alg.build(Ms[m] if m == 0 else Ms[m] - Ms[m-1], Ms[m])\n",
    "    wts, idcs = alg.weights()\n",
    "\n",
    "    logpZ = lambda th : log_joint(Z[idcs, :], th, wts)\n",
    "    glogpZ = lambda th : grad_log_joint(Z[idcs, :], th, wts)\n",
    "    mcmc_param_init = np.random.multivariate_normal(mu, cov)\n",
    "    print('M = ' + str(Ms[m]) + ': MCMC')\n",
    "    th_samples = mcmc_alg(logp=logpZ, gradlogp=glogpZ, x0 = mcmc_param_init, sample_steps=mcmc_steps, \n",
    "                          burn_steps=mcmc_burn, adapt_steps=mcmc_burn, n_leapfrogs= n_leap, \n",
    "                          scale=np.ones(mu.shape[0]), progress_bar=pbar, step_size=step_size_init, target_accept=target_a)  \n",
    "\n",
    "    print('M = ' + str(Ms[m]) + ': coreset sizes =', wts.shape[0])\n",
    "    csizes[m] = wts.shape[0]\n",
    "    print('M = ' + str(Ms[m]) + ': F norms')\n",
    "    gcs = np.array([ grad_log_joint(Z[idcs, :], full_samples[i, :], wts) for i in range(full_samples.shape[0]) ])\n",
    "    gfs = np.array([ grad_log_joint(Z, full_samples[i, :], np.ones(Z.shape[0])) for i in range(full_samples.shape[0]) ])\n",
    "    temp_Fs = (((gcs - gfs)**2).sum(axis=1)).mean()\n",
    "    Fs[m] = temp_Fs\n",
    "    print('Fs({}) = {}'.format(Ms[m], temp_Fs))\n",
    "    print('='*60)"
   ]
  },
  {
   "cell_type": "code",
   "execution_count": 117,
   "metadata": {},
   "outputs": [
    {
     "name": "stdout",
     "output_type": "stream",
     "text": [
      "[[ 3.31662287  3.57236476 -0.03994825]\n",
      " [ 3.31662287  3.57236476 -0.03994825]\n",
      " [ 3.22998614  2.88721048 -0.47378742]\n",
      " ...\n",
      " [ 2.94183265  2.71150762 -0.49144774]\n",
      " [ 2.82223414  3.43517252 -1.08910194]\n",
      " [ 3.81115418  3.26655967 -0.18337171]]\n"
     ]
    }
   ],
   "source": [
    "print(th_samples)"
   ]
  },
  {
   "cell_type": "code",
   "execution_count": 91,
   "metadata": {},
   "outputs": [
    {
     "name": "stdout",
     "output_type": "stream",
     "text": [
      "[9.]\n",
      "[46.88617244]\n"
     ]
    }
   ],
   "source": [
    "print(csizes)\n",
    "print(Fs)"
   ]
  },
  {
   "cell_type": "code",
   "execution_count": 90,
   "metadata": {},
   "outputs": [
    {
     "name": "stdout",
     "output_type": "stream",
     "text": [
      "[3.16579599e+00 1.15564239e+00 9.00686352e-01 1.09535352e+01\n",
      " 4.55513867e+00 1.52422859e+01 5.21211165e+03 4.14030491e+02\n",
      " 3.81306881e+00]\n",
      "[ 35  36 106 301 302 367 439 452 480]\n",
      "[[ 2.13888938 -1.80207523 -1.        ]\n",
      " [-0.0027867  -0.83894109 -1.        ]\n",
      " [-0.23922273 -0.30475859  1.        ]\n",
      " [-1.37663449  2.1221153  -1.        ]\n",
      " [ 2.1290987  -1.65283134 -1.        ]\n",
      " [-1.46994997  2.55534171  1.        ]\n",
      " [ 1.02140319  1.57255307 -1.        ]\n",
      " [ 0.93006155  1.23382382  1.        ]\n",
      " [ 1.97796962 -1.12232974  1.        ]]\n"
     ]
    }
   ],
   "source": [
    "print(wts)\n",
    "print(idcs)\n",
    "print(Z[idcs, :])"
   ]
  },
  {
   "cell_type": "code",
   "execution_count": 15,
   "metadata": {},
   "outputs": [],
   "source": [
    "# all parameters not specified are set to their defaults\n",
    "logisticRegr = LogisticRegression()"
   ]
  },
  {
   "cell_type": "code",
   "execution_count": 18,
   "metadata": {},
   "outputs": [
    {
     "name": "stdout",
     "output_type": "stream",
     "text": [
      "(500, 2)\n",
      "(500,)\n"
     ]
    },
    {
     "data": {
      "text/plain": [
       "LogisticRegression(C=1.0, class_weight=None, dual=False, fit_intercept=True,\n",
       "                   intercept_scaling=1, l1_ratio=None, max_iter=100,\n",
       "                   multi_class='auto', n_jobs=None, penalty='l2',\n",
       "                   random_state=None, solver='lbfgs', tol=0.0001, verbose=0,\n",
       "                   warm_start=False)"
      ]
     },
     "execution_count": 18,
     "metadata": {},
     "output_type": "execute_result"
    }
   ],
   "source": [
    "x_train = Z[:,:2]\n",
    "y_train = Z[:,2]\n",
    "print(x_train.shape)\n",
    "print(y_train.shape)\n",
    "logisticRegr.fit(x_train, y_train)"
   ]
  },
  {
   "cell_type": "code",
   "execution_count": 19,
   "metadata": {},
   "outputs": [
    {
     "name": "stdout",
     "output_type": "stream",
     "text": [
      "(50, 2)\n",
      "(50,)\n",
      "0.5\n"
     ]
    }
   ],
   "source": [
    "# Use score method to get accuracy of model\n",
    "x_test = Zt[:,:2]\n",
    "y_test = Zt[:,2]\n",
    "print(x_test.shape)\n",
    "print(y_test.shape)\n",
    "score = logisticRegr.score(x_test, y_test)\n",
    "print(score)"
   ]
  },
  {
   "cell_type": "markdown",
   "metadata": {},
   "source": [
    "# Try on heart disease data"
   ]
  },
  {
   "cell_type": "markdown",
   "metadata": {},
   "source": [
    "## First, without coresets"
   ]
  },
  {
   "cell_type": "code",
   "execution_count": 90,
   "metadata": {},
   "outputs": [
    {
     "name": "stdout",
     "output_type": "stream",
     "text": [
      "(240, 14)\n",
      "(63, 14)\n"
     ]
    }
   ],
   "source": [
    "# Load data\n",
    "dataname = 'heart'\n",
    "datafile = 'data/' + dataname + '.csv'\n",
    "df = pd.read_csv(datafile)\n",
    "msk = np.random.rand(len(df)) < 0.8\n",
    "train = df[msk].to_numpy()\n",
    "test = df[~msk].to_numpy()\n",
    "print(train.shape)\n",
    "print(test.shape)\n",
    "x_train = train[:,:-1]\n",
    "x_test = test[:,:-1]\n",
    "y_train = train[:,-1]\n",
    "y_test = test[:,-1]"
   ]
  },
  {
   "cell_type": "code",
   "execution_count": 91,
   "metadata": {},
   "outputs": [],
   "source": [
    "# all parameters not specified are set to their defaults\n",
    "logisticRegr = LogisticRegression()"
   ]
  },
  {
   "cell_type": "code",
   "execution_count": 92,
   "metadata": {},
   "outputs": [
    {
     "name": "stderr",
     "output_type": "stream",
     "text": [
      "/Users/teague/ResearchWorkspace/Harrow_Algorithm_2/coresetEnv/lib/python3.7/site-packages/scikit_learn-0.22.2.post1-py3.7-macosx-10.15-x86_64.egg/sklearn/linear_model/_logistic.py:940: ConvergenceWarning: lbfgs failed to converge (status=1):\n",
      "STOP: TOTAL NO. of ITERATIONS REACHED LIMIT.\n",
      "\n",
      "Increase the number of iterations (max_iter) or scale the data as shown in:\n",
      "    https://scikit-learn.org/stable/modules/preprocessing.html\n",
      "Please also refer to the documentation for alternative solver options:\n",
      "    https://scikit-learn.org/stable/modules/linear_model.html#logistic-regression\n",
      "  extra_warning_msg=_LOGISTIC_SOLVER_CONVERGENCE_MSG)\n"
     ]
    },
    {
     "data": {
      "text/plain": [
       "LogisticRegression(C=1.0, class_weight=None, dual=False, fit_intercept=True,\n",
       "                   intercept_scaling=1, l1_ratio=None, max_iter=100,\n",
       "                   multi_class='auto', n_jobs=None, penalty='l2',\n",
       "                   random_state=None, solver='lbfgs', tol=0.0001, verbose=0,\n",
       "                   warm_start=False)"
      ]
     },
     "execution_count": 92,
     "metadata": {},
     "output_type": "execute_result"
    }
   ],
   "source": [
    "logisticRegr.fit(x_train, y_train)"
   ]
  },
  {
   "cell_type": "code",
   "execution_count": 93,
   "metadata": {},
   "outputs": [
    {
     "name": "stdout",
     "output_type": "stream",
     "text": [
      "0.7301587301587301\n"
     ]
    }
   ],
   "source": [
    "score = logisticRegr.score(x_test, y_test)\n",
    "print(score)"
   ]
  },
  {
   "cell_type": "markdown",
   "metadata": {},
   "source": [
    "## Then, with coresets"
   ]
  },
  {
   "cell_type": "code",
   "execution_count": 166,
   "metadata": {},
   "outputs": [],
   "source": [
    "# parameters\n",
    "dataname = 'heart'\n",
    "algname = 'GIGA' # can be GIGA / FW / RND\n",
    "ID = 1\n",
    "M = 100"
   ]
  },
  {
   "cell_type": "code",
   "execution_count": 171,
   "metadata": {},
   "outputs": [
    {
     "name": "stdout",
     "output_type": "stream",
     "text": [
      "(235, 14)\n",
      "(68, 14)\n",
      "(235, 14) (68, 14)\n",
      "(235,) (68,)\n"
     ]
    }
   ],
   "source": [
    "# Load data\n",
    "datafile = 'data/' + dataname + '.csv'\n",
    "df = pd.read_csv(datafile)\n",
    "msk = np.random.rand(len(df)) < 0.8\n",
    "train = df[msk].to_numpy()\n",
    "test = df[~msk].to_numpy()\n",
    "print(train.shape)\n",
    "print(test.shape)\n",
    "x_train = np.hstack((train[:,:-1], np.ones((train.shape[0],1))))\n",
    "x_test = np.hstack((test[:,:-1], np.ones((test.shape[0],1))))\n",
    "y_train = train[:,-1]\n",
    "y_train[y_train == 0] = -1\n",
    "y_test = test[:,-1]\n",
    "y_test[y_test == 0] = -1\n",
    "print(x_train.shape, x_test.shape)\n",
    "print(y_train.shape, y_test.shape)"
   ]
  },
  {
   "cell_type": "code",
   "execution_count": 172,
   "metadata": {},
   "outputs": [
    {
     "name": "stdout",
     "output_type": "stream",
     "text": [
      "[[ 0.90672862  0.78253491  1.95902758 ... -1.05891057 -2.25561583\n",
      "   1.        ]\n",
      " [-2.002994    0.45594314  0.94556687 ... -0.18496145 -0.62234711\n",
      "   1.        ]\n",
      " [ 0.12334176  0.69460635  0.03366061 ... -0.81340829 -0.4678544\n",
      "   1.        ]\n",
      " ...\n",
      " [ 1.10769473 -0.55643292 -1.9184058  ...  0.15587639 -1.42596735\n",
      "  -1.        ]\n",
      " [-1.46629066 -0.84534101  0.894043   ... -0.0079283  -0.71929766\n",
      "  -1.        ]\n",
      " [-0.23525417  1.45471265  0.02437164 ... -0.66454723  0.07676595\n",
      "  -1.        ]]\n",
      "(235, 14) (68, 14)\n"
     ]
    }
   ],
   "source": [
    "# standardize the covariates; last col is intercept, so no stdization there\n",
    "m = x_train[:, :-1].mean(axis=0)\n",
    "V = np.cov(x_train[:, :-1], rowvar=False)+1e-12*np.eye(x_train.shape[1]-1)\n",
    "x_train[:, :-1] = np.linalg.solve(np.linalg.cholesky(V), (x_train[:, :-1] - m).T).T\n",
    "x_test[:, :-1] = np.linalg.solve(np.linalg.cholesky(V), (x_test[:, :-1] - m).T).T\n",
    "Z = y_train[:, np.newaxis]*x_train\n",
    "Zt = y_test[:, np.newaxis]*x_test\n",
    "D = Z.shape[1]\n",
    "print(Z)\n",
    "#print(Zt)\n",
    "print(Z.shape, Zt.shape)"
   ]
  },
  {
   "cell_type": "code",
   "execution_count": 173,
   "metadata": {},
   "outputs": [
    {
     "data": {
      "text/plain": [
       "LogisticRegression(C=1.0, class_weight=None, dual=False, fit_intercept=True,\n",
       "                   intercept_scaling=1, l1_ratio=None, max_iter=100,\n",
       "                   multi_class='auto', n_jobs=None, penalty='l2',\n",
       "                   random_state=None, solver='lbfgs', tol=0.0001, verbose=0,\n",
       "                   warm_start=False)"
      ]
     },
     "execution_count": 173,
     "metadata": {},
     "output_type": "execute_result"
    }
   ],
   "source": [
    "logisticRegr.fit(Z[:,:-1], Z[:,-1])"
   ]
  },
  {
   "cell_type": "code",
   "execution_count": 174,
   "metadata": {},
   "outputs": [
    {
     "name": "stdout",
     "output_type": "stream",
     "text": [
      "0.6176470588235294\n"
     ]
    }
   ],
   "source": [
    "score = logisticRegr.score(Zt[:,:-1], Zt[:,-1])\n",
    "print(score)"
   ]
  },
  {
   "cell_type": "code",
   "execution_count": 175,
   "metadata": {},
   "outputs": [
    {
     "name": "stdout",
     "output_type": "stream",
     "text": [
      "Computing Laplace approximation for heart\n",
      "mu:\n",
      " [-0.79430344 -0.9327074   1.31370851 -0.53750772 -0.25410191 -0.13200417\n",
      "  0.2391203   0.82647108 -0.3065421  -0.75497622  0.1295255  -0.67788112\n",
      " -0.325165    0.01172156]\n"
     ]
    }
   ],
   "source": [
    "print('Computing Laplace approximation for '+dataname)\n",
    "res = minimize(lambda mu : -log_joint(Z, mu, np.ones(Z.shape[0])), Z.mean(axis=0)[:D], jac=lambda mu : -grad_log_joint(Z, mu, np.ones(Z.shape[0])))\n",
    "mu = res.x\n",
    "cov = -np.linalg.inv(hess_log_joint(Z, mu))\n",
    "print('mu:\\n', mu)\n",
    "#print('cov:\\n', cov)"
   ]
  },
  {
   "cell_type": "code",
   "execution_count": 176,
   "metadata": {},
   "outputs": [],
   "source": [
    "# random projection dimension\n",
    "projection_dim = 500\n",
    "\n",
    "#generate a sampler based on the laplace approx \n",
    "sampler = lambda sz, w, ids : np.atleast_2d(np.random.multivariate_normal(mu, cov, sz))\n",
    "\n",
    "#create the log-likelihood eval function\n",
    "def loglike(prms):\n",
    "    return np.hstack([log_likelihood(Z, prms[i,:])[:,np.newaxis] for i in range(prms.shape[0])])\n",
    "\n",
    "tsf = bc.BayesianTangentSpaceFactory(loglike, sampler, projection_dim)"
   ]
  },
  {
   "cell_type": "code",
   "execution_count": 177,
   "metadata": {},
   "outputs": [
    {
     "name": "stdout",
     "output_type": "stream",
     "text": [
      "M = 100: coreset construction, GIGA heart 1\n",
      "[  1.85357744   0.81610984   0.46721312   1.02431858   0.8149909\n",
      "   0.50446016  19.18940844   0.61390422   1.25341384   1.94717978\n",
      "   1.46440532   1.64729416   0.84679952   1.1624973    1.97957223\n",
      "   0.6979208    0.66066933   1.909903     1.26211543   0.47543797\n",
      "   0.60494476   0.23499389   3.92414953   3.82399324   4.44541597\n",
      "   0.50678792   0.88008827   1.65679804   1.81679493   0.51317197\n",
      "   1.95379537   1.0529161    1.17575486   0.21613273   2.0546286\n",
      "   1.3847124    1.10752304   3.0605072   17.28412157   0.32374303\n",
      " 175.31045487   0.41328579  19.79062851   0.48737314   0.70262015\n",
      "   1.05603302   4.31359783   0.79376747   1.37889552   0.27804026\n",
      "   0.83095192   1.18624068   1.18732669  25.35839699   1.3749921\n",
      "   1.23748746   0.48674076   0.45200049   1.68238683   0.7783572\n",
      "   1.75609566   0.87003822   0.95932489   0.62148232]\n",
      "[  0   3   4   5   6   9  10  12  13  14  17  21  23  38  47  51  60  61\n",
      "  62  65  67  69  70  74  84  87 103 104 105 107 109 110 114 119 122 126\n",
      " 133 134 138 144 148 152 154 159 164 174 176 190 193 194 198 201 204 207\n",
      " 208 209 210 216 217 221 224 227 231 234]\n"
     ]
    }
   ],
   "source": [
    "print('M = ' + str(M) + ': coreset construction, '+ algname + ' ' + dataname + ' ' + str(ID))\n",
    "alg = bc.HilbertCoreset(tsf, snnls = algdict[algname])\n",
    "#this runs alg up to a level of M; on the next iteration, it will continue from where it left off\n",
    "alg.build(M, M)\n",
    "wts, idcs = alg.weights()\n",
    "print(wts)\n",
    "print(idcs)"
   ]
  },
  {
   "cell_type": "code",
   "execution_count": 178,
   "metadata": {},
   "outputs": [
    {
     "data": {
      "text/plain": [
       "LogisticRegression(C=1.0, class_weight=None, dual=False, fit_intercept=True,\n",
       "                   intercept_scaling=1, l1_ratio=None, max_iter=100,\n",
       "                   multi_class='auto', n_jobs=None, penalty='l2',\n",
       "                   random_state=None, solver='lbfgs', tol=0.0001, verbose=0,\n",
       "                   warm_start=False)"
      ]
     },
     "execution_count": 178,
     "metadata": {},
     "output_type": "execute_result"
    }
   ],
   "source": [
    "logisticRegr.fit(Z[idcs,:-1], Z[idcs,-1], sample_weight=wts)"
   ]
  },
  {
   "cell_type": "code",
   "execution_count": 179,
   "metadata": {},
   "outputs": [
    {
     "name": "stdout",
     "output_type": "stream",
     "text": [
      "0.39705882352941174\n"
     ]
    }
   ],
   "source": [
    "score = logisticRegr.score(Zt[:,:-1], Zt[:,-1])\n",
    "print(score)"
   ]
  },
  {
   "cell_type": "markdown",
   "metadata": {},
   "source": [
    "## Loop through different coreset sizes (M)"
   ]
  },
  {
   "cell_type": "code",
   "execution_count": 181,
   "metadata": {},
   "outputs": [
    {
     "name": "stdout",
     "output_type": "stream",
     "text": [
      "M = 10: coreset construction, GIGA heart 1\n",
      "0.5441176470588235\n",
      "M = 20: coreset construction, GIGA heart 1\n",
      "0.4411764705882353\n",
      "M = 40: coreset construction, GIGA heart 1\n",
      "0.4852941176470588\n",
      "M = 80: coreset construction, GIGA heart 1\n",
      "0.47058823529411764\n",
      "M = 160: coreset construction, GIGA heart 1\n",
      "0.5441176470588235\n",
      "M = 200: coreset construction, GIGA heart 1\n",
      "0.4411764705882353\n"
     ]
    }
   ],
   "source": [
    "for M in [10,20,40,80,160,200]:\n",
    "    print('M = ' + str(M) + ': coreset construction, '+ algname + ' ' + dataname + ' ' + str(ID))\n",
    "    alg = bc.HilbertCoreset(tsf, snnls = algdict[algname])\n",
    "    #this runs alg up to a level of M; on the next iteration, it will continue from where it left off\n",
    "    alg.build(M, M)\n",
    "    wts, idcs = alg.weights()\n",
    "    logisticRegr.fit(Z[idcs,:-1], Z[idcs,-1], sample_weight=wts)\n",
    "    score = logisticRegr.score(Zt[:,:-1], Zt[:,-1])\n",
    "    print(score)"
   ]
  },
  {
   "cell_type": "code",
   "execution_count": null,
   "metadata": {},
   "outputs": [],
   "source": []
  }
 ],
 "metadata": {
  "kernelspec": {
   "display_name": "Python 3",
   "language": "python",
   "name": "python3"
  },
  "language_info": {
   "codemirror_mode": {
    "name": "ipython",
    "version": 3
   },
   "file_extension": ".py",
   "mimetype": "text/x-python",
   "name": "python",
   "nbconvert_exporter": "python",
   "pygments_lexer": "ipython3",
   "version": "3.7.5"
  }
 },
 "nbformat": 4,
 "nbformat_minor": 4
}
